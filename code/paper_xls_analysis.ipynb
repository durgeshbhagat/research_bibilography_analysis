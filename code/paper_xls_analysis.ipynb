{
 "cells": [
  {
   "cell_type": "code",
   "execution_count": 18,
   "metadata": {},
   "outputs": [],
   "source": [
    "import pandas as pd\n",
    "import re\n",
    "import os\n",
    "import sys"
   ]
  },
  {
   "cell_type": "code",
   "execution_count": 21,
   "metadata": {},
   "outputs": [
    {
     "name": "stdout",
     "output_type": "stream",
     "text": [
      "Index(['SI No', 'Publication Year', 'Journal Name/ Conference Name', 'Title',\n",
      "       'Author's Name ', 'Author Affliation ', 'No of Citation',\n",
      "       'Short Abstract', 'Methodology', 'Advantage', 'Disadvantage',\n",
      "       'Conclusion', 'Future Work'],\n",
      "      dtype='object')\n"
     ]
    }
   ],
   "source": [
    "# read xls file and print column name\n",
    "base_path = os.path.dirname(os.path.abspath(''))\n",
    "\n",
    "ip_path = os.path.join(base_path, 'input_data')\n",
    "\n",
    "fname = 'Book.xlsx'\n",
    "fname_total = os.path.join(ip_path, fname)\n",
    "d = pd.read_excel(fname_total)\n",
    "print(d.columns)"
   ]
  },
  {
   "cell_type": "code",
   "execution_count": 22,
   "metadata": {},
   "outputs": [],
   "source": [
    "author_column_list = d[\"Author's Name \"]"
   ]
  },
  {
   "cell_type": "code",
   "execution_count": 24,
   "metadata": {},
   "outputs": [
    {
     "name": "stdout",
     "output_type": "stream",
     "text": [
      "['Matt Thomas', 'Bo Pang', '', 'Lillian Lee']\n",
      "['Swapna Somasundaran', 'Janyce Wiebe']\n",
      "['\\tAkiko Murakami', 'Rudy Raymond']\n",
      "['Wen Wang', 'Sibel Yaman', '', ' Kristin Precoda', 'Colleen Richey', 'Geoffrey Raymond']\n",
      "['Clinton Burfoot', 'Steven Bird', '', 'Timothy Baldwin']\n",
      "['Pranav Anand', 'Marilyn Walker', 'Rob Abbott', '', ' Jean E. Fox Tree', '', 'Robeson Bowmani', '', 'Michael Minor']\n",
      "['Marilyn A. Walker', 'Pranav Anand', '', 'Robert Abbott', ' Ricky Grant']\n",
      "['Kazi Saidul Hasan', ' Vincent Ng']\n",
      "['Adam Faulkner']\n",
      "['Dhanya Sridhar', 'Lise Getoor', 'Marilyn Walker']\n",
      "['Dhanya Sridhar', 'James Foulds', '', 'Bert Huang', 'Lise Getoor', '', ' Marilyn Walker']\n",
      "['Kristen Johnson', 'Dan Goldwasser']\n",
      "['Michal Lukasik', '', 'P.K. Srijith', '', ' Duy Vu', 'Kalina Bontcheva', '', 'Arkaitz Zubiaga', '', 'Trevor Cohn']\n",
      "['Arkaitz Zubiaga', 'Elena Kochkina', ' Maria Liakata', 'Rob Procter', ' Michal Lukasik']\n",
      "['Guido Zarrella', ' Amy Marsh']\n",
      "['Wan Wei', 'Xiao Zhang', 'Xuqin Liu', '', 'Wei Chen', 'Tengjiao Wang']\n",
      "['Isaac Persing', ' Vincent Ng']\n",
      "['Chengcheng Shao', 'Giovanni Luca Ciampaglia', '']\n",
      "['Huiling Zhang', 'Alan Kuhnle', '', 'Huiyuan Zhang', '', 'My T. Thai']\n",
      "['Isabelle Augenstein', 'Tim Rockt¨aschel', 'Andreas Vlachos', '', 'Kalina Bontcheva']\n",
      "['Wei-Fan Chen', 'Lun-Wei Ku']\n",
      "['Parinaz Sobhani', 'Saif M. Mohammad', ' Svetlana Kiritchenko']\n",
      "['Sardar Hamidian', ' Mona T Diab']\n",
      "['Ahmet Aker', 'Leon Derczynski', '', 'Kalina Bontcheva']\n",
      "['Elena Kochkina', '', 'Maria Liakata', '', 'Isabelle Augenstein']\n",
      "['Jiachen Du', 'Ruifeng Xu\\r', '', 'Yulan He', 'Lin Gu']\n",
      "['Peter Krejzl', '', 'Barbora Hourová', 'Josef Steinberger']\n",
      "['Dilek Kucuk']\n",
      "['Hareesh Bahuleyan', ' Olga Vechtomova']\n",
      "['Kuntal Dey', 'Ritvik Shrivastava', '', 'Saroj Kaushik']\n",
      "['Elena Kochkina', 'Maria Liakata', 'Isabelle Augenstein']\n",
      "['Borislav Mavrin']\n",
      "['Michael Wojatzki', ' Torsten Zesch']\n",
      "['Parinaz Sobhani', 'Diana Inkpen', '', ' Xiaodan Zhu']\n",
      "['Peter Bourgonje', 'Julian Moreno Schneider', '', '', 'Georg Rehm']\n",
      "['Mariona Taule', 'M. Antonia Martı', '', 'Francisco Rangel', 'Paolo Rosso', '', ' Cristina Bosco', ' Viviana Patti']\n",
      "['Ahmet Aker', ' Leon Derczynski', '', ' Kalina Bontcheva']\n",
      "['SAIF M. MOHAMMAD', 'PARINAZ SOBHANI', 'SVETLANA KIRITCHENKO', '']\n",
      "['Parinaz Sobhani']\n",
      "['Benjamin Riedel', 'Isabelle Augenstein', '', 'Georgios P. Spithourakis', 'Sebastian Riedel']\n",
      "['Dilek kucuk']\n",
      "['Benjamin Riedel', 'Isabelle Augenstein', 'Georgios P. Spithourakis', '', 'Sebastian Riedel']\n",
      "['Yilin Yan', 'Jonathan Chen', 'Mei-Ling Shyu']\n",
      "['Qingying Sun', 'Zhongqing Wang', '', ' Qiaoming Zhu', ' Guodong Zhou']\n",
      "['Nikita Lozhnikov', 'Leon Derczynski', '', 'Manuel Mazzara']\n",
      "['LUÍS BORGES', 'BRUNO MARTINS', 'PÁVEL CALADO']\n",
      "['Parinaz Sobhani', ' Diana Inkpen', 'Xiaodan Zhu']\n",
      "['Andreas Hanselowski', 'Avinesh PVS', 'Benjamin Schiller', 'Felix Caspelherr', 'Debanjan Chaudhuri', 'Christian M. Meyer', 'Iryna Gurevych']\n",
      "['Isabel Segura-Bedmar']\n",
      "['Penghui Wei', 'Junjie Lin', '', 'Wenji Mao']\n",
      "['Sebastian Ruder', 'John Glover', '', 'Afshin Mehrabani', 'Parsa Ghaffari']\n",
      "['Sara S. Mourad', 'Doaa M. Shawky', '', ' Hatem A. Fayed', '', 'Ashraf H. Badawi']\n",
      "['Dilek Küçük', 'Fazli Can']\n",
      "['Michael Wojatzki', ' Torsten Zesch']\n",
      "['Bilal Ghanem', 'Paolo Rosso']\n",
      "['Ophélie Fraisier', 'Guillaume Cabanac', 'Yoann Pitarch']\n",
      "['Seunghyun Yoon', 'Kunwoo Park', 'Joongbo Shin', 'Hongjun Lim', 'Seungpil Won', 'Meeyoung Cha', 'Kyomin Jung']\n",
      "['Dilek Kucuk', 'Fazli Can']\n",
      "['Qingying SUN', 'Zhongqing Wang', '', ' Qiaoming Zhu', ' Guodong Zhou']\n"
     ]
    }
   ],
   "source": [
    "author_publication_count = {}\n",
    "for i, author in enumerate(author_column_list):\n",
    "    cur_author = author.strip().replace('\\r','')\n",
    "    cur_author_list = re.split(' , |, | ,|,| and|and | \\n|\\n', author)\n",
    "    print(cur_author_list)\n",
    "    for cur_author in cur_author_list:\n",
    "        cur_author = cur_author.strip()\n",
    "        if len(cur_author) >2 : \n",
    "            if cur_author not in author_publication_count:\n",
    "                author_publication_count[cur_author] = 1\n",
    "            else:\n",
    "                author_publication_count[cur_author] += 1"
   ]
  },
  {
   "cell_type": "code",
   "execution_count": 25,
   "metadata": {},
   "outputs": [
    {
     "name": "stdout",
     "output_type": "stream",
     "text": [
      "Isabelle Augenstein 5\n",
      "Kalina Bontcheva 4\n",
      "Parinaz Sobhani 4\n",
      "Marilyn Walker 3\n",
      "Elena Kochkina 3\n",
      "Maria Liakata 3\n",
      "Leon Derczynski 3\n",
      "Pranav Anand 2\n",
      "Vincent Ng 2\n",
      "Dhanya Sridhar 2\n",
      "Lise Getoor 2\n",
      "Michal Lukasik 2\n",
      "Arkaitz Zubiaga 2\n",
      "Ahmet Aker 2\n",
      "Dilek Kucuk 2\n",
      "Michael Wojatzki 2\n",
      "Torsten Zesch 2\n",
      "Diana Inkpen 2\n",
      "Xiaodan Zhu 2\n",
      "Paolo Rosso 2\n",
      "Benjamin Riedel 2\n",
      "Georgios P. Spithourakis 2\n",
      "Sebastian Riedel 2\n",
      "Zhongqing Wang 2\n",
      "Qiaoming Zhu 2\n",
      "Guodong Zhou 2\n",
      "Fazli Can 2\n",
      "Matt Thomas 1\n",
      "Bo Pang 1\n",
      "Lillian Lee 1\n",
      "Swapna Somasundaran 1\n",
      "Janyce Wiebe 1\n",
      "Akiko Murakami 1\n",
      "Rudy Raymond 1\n",
      "Wen Wang 1\n",
      "Sibel Yaman 1\n",
      "Kristin Precoda 1\n",
      "Colleen Richey 1\n",
      "Geoffrey Raymond 1\n",
      "Clinton Burfoot 1\n",
      "Steven Bird 1\n",
      "Timothy Baldwin 1\n",
      "Rob Abbott 1\n",
      "Jean E. Fox Tree 1\n",
      "Robeson Bowmani 1\n",
      "Michael Minor 1\n",
      "Marilyn A. Walker 1\n",
      "Robert Abbott 1\n",
      "Ricky Grant 1\n",
      "Kazi Saidul Hasan 1\n",
      "Adam Faulkner 1\n",
      "James Foulds 1\n",
      "Bert Huang 1\n",
      "Kristen Johnson 1\n",
      "Dan Goldwasser 1\n",
      "P.K. Srijith 1\n",
      "Duy Vu 1\n",
      "Trevor Cohn 1\n",
      "Rob Procter 1\n",
      "Guido Zarrella 1\n",
      "Amy Marsh 1\n",
      "Wan Wei 1\n",
      "Xiao Zhang 1\n",
      "Xuqin Liu 1\n",
      "Wei Chen 1\n",
      "Tengjiao Wang 1\n",
      "Isaac Persing 1\n",
      "Chengcheng Shao 1\n",
      "Giovanni Luca Ciampaglia 1\n",
      "Huiling Zhang 1\n",
      "Alan Kuhnle 1\n",
      "Huiyuan Zhang 1\n",
      "My T. Thai 1\n",
      "Tim Rockt¨aschel 1\n",
      "Andreas Vlachos 1\n",
      "Wei-Fan Chen 1\n",
      "Lun-Wei Ku 1\n",
      "Saif M. Mohammad 1\n",
      "Svetlana Kiritchenko 1\n",
      "Sardar Hamidian 1\n",
      "Mona T Diab 1\n",
      "Jiachen Du 1\n",
      "Ruifeng Xu 1\n",
      "Yulan He 1\n",
      "Lin Gu 1\n",
      "Peter Krejzl 1\n",
      "Barbora Hourová 1\n",
      "Josef Steinberger 1\n",
      "Hareesh Bahuleyan 1\n",
      "Olga Vechtomova 1\n",
      "Kuntal Dey 1\n",
      "Ritvik Shrivastava 1\n",
      "Saroj Kaushik 1\n",
      "Borislav Mavrin 1\n",
      "Peter Bourgonje 1\n",
      "Julian Moreno Schneider 1\n",
      "Georg Rehm 1\n",
      "Mariona Taule 1\n",
      "M. Antonia Martı 1\n",
      "Francisco Rangel 1\n",
      "Cristina Bosco 1\n",
      "Viviana Patti 1\n",
      "SAIF M. MOHAMMAD 1\n",
      "PARINAZ SOBHANI 1\n",
      "SVETLANA KIRITCHENKO 1\n",
      "Dilek kucuk 1\n",
      "Yilin Yan 1\n",
      "Jonathan Chen 1\n",
      "Mei-Ling Shyu 1\n",
      "Qingying Sun 1\n",
      "Nikita Lozhnikov 1\n",
      "Manuel Mazzara 1\n",
      "LUÍS BORGES 1\n",
      "BRUNO MARTINS 1\n",
      "PÁVEL CALADO 1\n",
      "Andreas Hanselowski 1\n",
      "Avinesh PVS 1\n",
      "Benjamin Schiller 1\n",
      "Felix Caspelherr 1\n",
      "Debanjan Chaudhuri 1\n",
      "Christian M. Meyer 1\n",
      "Iryna Gurevych 1\n",
      "Isabel Segura-Bedmar 1\n",
      "Penghui Wei 1\n",
      "Junjie Lin 1\n",
      "Wenji Mao 1\n",
      "Sebastian Ruder 1\n",
      "John Glover 1\n",
      "Afshin Mehrabani 1\n",
      "Parsa Ghaffari 1\n",
      "Sara S. Mourad 1\n",
      "Doaa M. Shawky 1\n",
      "Hatem A. Fayed 1\n",
      "Ashraf H. Badawi 1\n",
      "Dilek Küçük 1\n",
      "Bilal Ghanem 1\n",
      "Ophélie Fraisier 1\n",
      "Guillaume Cabanac 1\n",
      "Yoann Pitarch 1\n",
      "Seunghyun Yoon 1\n",
      "Kunwoo Park 1\n",
      "Joongbo Shin 1\n",
      "Hongjun Lim 1\n",
      "Seungpil Won 1\n",
      "Meeyoung Cha 1\n",
      "Kyomin Jung 1\n",
      "Qingying SUN 1\n"
     ]
    }
   ],
   "source": [
    "author_pub_count = list(author_publication_count.items())\n",
    "author_pub_count.sort(key = lambda item : item[1], reverse=True)\n",
    "for author, count in author_pub_count:\n",
    "    print(author, count)"
   ]
  },
  {
   "cell_type": "code",
   "execution_count": 27,
   "metadata": {},
   "outputs": [],
   "source": [
    "# create a new pandas dataframe for author and count\n",
    "df = pd.DataFrame(author_pub_count, columns=['Author_Name', '# of publication'])\n",
    "out_path = os.path.join(base_path, 'output')\n",
    "fout_name = 'Author_publication_count.xlsx'\n",
    "fout_name_total = os.path.join(out_path, fout_name)\n",
    "df.to_excel(fout_name_total)"
   ]
  },
  {
   "cell_type": "code",
   "execution_count": 12,
   "metadata": {},
   "outputs": [
    {
     "name": "stdout",
     "output_type": "stream",
     "text": [
      "{2006: 1, 2009: 1, 2010: 1, 2011: 3, 2012: 1, 2013: 1, 2014: 2, 2015: 1, 2016: 12, 2017: 19, 2018: 14, 2019: 3}\n"
     ]
    }
   ],
   "source": [
    "year_count = {}\n",
    "year_list = d[\"Publication Year\"]\n",
    "for year in year_list:\n",
    "    if year not in year_count:\n",
    "        year_count[year] = 1\n",
    "    else:\n",
    "        year_count[year] += 1\n",
    "\n",
    "print(year_count)"
   ]
  },
  {
   "cell_type": "code",
   "execution_count": 57,
   "metadata": {},
   "outputs": [],
   "source": [
    "import matplotlib.pyplot as plt"
   ]
  },
  {
   "cell_type": "code",
   "execution_count": 85,
   "metadata": {},
   "outputs": [
    {
     "name": "stdout",
     "output_type": "stream",
     "text": [
      "[2006, 2009, 2010, 2011, 2012, 2013, 2014, 2015, 2016, 2017, 2018, 2019]\n",
      "12\n"
     ]
    },
    {
     "data": {
      "image/png": "[encoded data removed]",
      "text/plain": [
       "<Figure size 432x288 with 1 Axes>"
      ]
     },
     "metadata": {
      "needs_background": "light"
     },
     "output_type": "display_data"
    }
   ],
   "source": [
    "year_list = list(year_count.keys())\n",
    "year_list.sort()\n",
    "print(year_list)\n",
    "len_year_list = len(year_list)\n",
    "print(len_year_list)\n",
    "count_list = []\n",
    "for year in year_list:\n",
    "    count_list.append(year_count[year])\n",
    "    \n",
    "min_year = year_list[0]\n",
    "max_year = year_list[-1]\n",
    "# Choose the position of each barplots on the x-axis (space=1,4,3,1)\n",
    "y_pos = range(0, len_year_list, 1)\n",
    "\n",
    "# Create bars\n",
    "plt.bar(y_pos, count_list)\n",
    " \n",
    "# Create names on the x-axis\n",
    "plt.xticks(y_pos, year_count)\n",
    " \n",
    "# Show graphic\n",
    "#plt.show()\n",
    "out_path = os.path.join(base_path, 'output')\n",
    "fout_name = 'Author_publication_count.xlsx'\n",
    "fout_name_total = os.path.join(out_path, fout_name)\n",
    "plt.savefig('year_count.jpeg')\n",
    "\n"
   ]
  },
  {
   "cell_type": "code",
   "execution_count": null,
   "metadata": {},
   "outputs": [],
   "source": []
  },
  {
   "cell_type": "code",
   "execution_count": 74,
   "metadata": {},
   "outputs": [
    {
     "data": {
      "text/plain": [
       "<function matplotlib.pyplot.show(*args, **kw)>"
      ]
     },
     "execution_count": 74,
     "metadata": {},
     "output_type": "execute_result"
    },
    {
     "data": {
      "image/png": "[encoded data removed]",
      "text/plain": [
       "<Figure size 432x288 with 1 Axes>"
      ]
     },
     "metadata": {
      "needs_background": "light"
     },
     "output_type": "display_data"
    }
   ],
   "source": [
    "# library\n",
    "import matplotlib.pyplot as plt\n",
    " \n",
    "# Make fake dataset\n",
    "height = [3, 12, 5, 18, 45]\n",
    "bars = ('A', 'B', 'C', 'D', 'E')\n",
    " \n",
    "# Choose the position of each barplots on the x-axis (space=1,4,3,1)\n",
    "y_pos = [0,1,5,8,9]\n",
    " \n",
    "# Create bars\n",
    "plt.bar(y_pos, height)\n",
    " \n",
    "# Create names on the x-axis\n",
    "plt.xticks(y_pos, bars)\n",
    " \n",
    "# Show graphic\n",
    "plt.show"
   ]
  },
  {
   "cell_type": "code",
   "execution_count": null,
   "metadata": {},
   "outputs": [],
   "source": []
  }
 ],
 "metadata": {
  "kernelspec": {
   "display_name": "Python 3",
   "language": "python",
   "name": "python3"
  },
  "language_info": {
   "codemirror_mode": {
    "name": "ipython",
    "version": 3
   },
   "file_extension": ".py",
   "mimetype": "text/x-python",
   "name": "python",
   "nbconvert_exporter": "python",
   "pygments_lexer": "ipython3",
   "version": "3.6.8"
  }
 },
 "nbformat": 4,
 "nbformat_minor": 2
}
